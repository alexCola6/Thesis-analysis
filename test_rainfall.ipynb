{
 "cells": [
  {
   "cell_type": "code",
   "execution_count": 35,
   "id": "29d6a8ad-adc4-46bc-bb7a-d01f972c5e43",
   "metadata": {},
   "outputs": [],
   "source": [
    "%matplotlib inline\n",
    "\n",
    "import datacube\n",
    "import numpy as np\n",
    "from matplotlib import pyplot as plt\n",
    "from deafrica_tools.plotting import display_map"
   ]
  },
  {
   "cell_type": "code",
   "execution_count": 36,
   "id": "5e09dddc-06e6-4a89-aa78-971f6b4e36d3",
   "metadata": {},
   "outputs": [],
   "source": [
    "dc = datacube.Datacube(app=\"rainfall_chirps\")"
   ]
  },
  {
   "cell_type": "code",
   "execution_count": 38,
   "id": "80dcbf5f-4a94-44e4-a0cc-fde02b132c2f",
   "metadata": {},
   "outputs": [],
   "source": [
    "lat, lon =  16.625, -14.875 \n",
    "\n",
    "buffer_lat, buffer_lon = 1, 1\n",
    "\n",
    "time_period = ('2013-03-01', '2020-12-31')\n",
    "\n",
    "output_crs = 'epsg:6933'\n",
    "\n",
    "#join lat,lon,buffer to get bounding box\n",
    "lon_range = (lon - buffer_lon, lon + buffer_lon)\n",
    "lat_range = (lat + buffer_lat, lat - buffer_lat)"
   ]
  },
  {
   "cell_type": "code",
   "execution_count": 39,
   "id": "b1de0f7e-cee8-4cee-893a-0f99fb2ae03f",
   "metadata": {},
   "outputs": [
    {
     "data": {
      "text/html": [
       "<div style=\"width:100%;\"><div style=\"position:relative;width:100%;height:0;padding-bottom:60%;\"><span style=\"color:#565656\">Make this Notebook Trusted to load map: File -> Trust Notebook</span><iframe srcdoc=\"&lt;!DOCTYPE html&gt;\n",
       "&lt;html&gt;\n",
       "&lt;head&gt;\n",
       "    \n",
       "    &lt;meta http-equiv=&quot;content-type&quot; content=&quot;text/html; charset=UTF-8&quot; /&gt;\n",
       "    \n",
       "        &lt;script&gt;\n",
       "            L_NO_TOUCH = false;\n",
       "            L_DISABLE_3D = false;\n",
       "        &lt;/script&gt;\n",
       "    \n",
       "    &lt;style&gt;html, body {width: 100%;height: 100%;margin: 0;padding: 0;}&lt;/style&gt;\n",
       "    &lt;style&gt;#map {position:absolute;top:0;bottom:0;right:0;left:0;}&lt;/style&gt;\n",
       "    &lt;script src=&quot;https://cdn.jsdelivr.net/npm/leaflet@1.9.3/dist/leaflet.js&quot;&gt;&lt;/script&gt;\n",
       "    &lt;script src=&quot;https://code.jquery.com/jquery-3.7.1.min.js&quot;&gt;&lt;/script&gt;\n",
       "    &lt;script src=&quot;https://cdn.jsdelivr.net/npm/bootstrap@5.2.2/dist/js/bootstrap.bundle.min.js&quot;&gt;&lt;/script&gt;\n",
       "    &lt;script src=&quot;https://cdnjs.cloudflare.com/ajax/libs/Leaflet.awesome-markers/2.0.2/leaflet.awesome-markers.js&quot;&gt;&lt;/script&gt;\n",
       "    &lt;link rel=&quot;stylesheet&quot; href=&quot;https://cdn.jsdelivr.net/npm/leaflet@1.9.3/dist/leaflet.css&quot;/&gt;\n",
       "    &lt;link rel=&quot;stylesheet&quot; href=&quot;https://cdn.jsdelivr.net/npm/bootstrap@5.2.2/dist/css/bootstrap.min.css&quot;/&gt;\n",
       "    &lt;link rel=&quot;stylesheet&quot; href=&quot;https://netdna.bootstrapcdn.com/bootstrap/3.0.0/css/bootstrap-glyphicons.css&quot;/&gt;\n",
       "    &lt;link rel=&quot;stylesheet&quot; href=&quot;https://cdn.jsdelivr.net/npm/@fortawesome/fontawesome-free@6.2.0/css/all.min.css&quot;/&gt;\n",
       "    &lt;link rel=&quot;stylesheet&quot; href=&quot;https://cdnjs.cloudflare.com/ajax/libs/Leaflet.awesome-markers/2.0.2/leaflet.awesome-markers.css&quot;/&gt;\n",
       "    &lt;link rel=&quot;stylesheet&quot; href=&quot;https://cdn.jsdelivr.net/gh/python-visualization/folium/folium/templates/leaflet.awesome.rotate.min.css&quot;/&gt;\n",
       "    \n",
       "            &lt;meta name=&quot;viewport&quot; content=&quot;width=device-width,\n",
       "                initial-scale=1.0, maximum-scale=1.0, user-scalable=no&quot; /&gt;\n",
       "            &lt;style&gt;\n",
       "                #map_667605c132d9b30f7464705fb23a93ed {\n",
       "                    position: relative;\n",
       "                    width: 100.0%;\n",
       "                    height: 100.0%;\n",
       "                    left: 0.0%;\n",
       "                    top: 0.0%;\n",
       "                }\n",
       "                .leaflet-container { font-size: 1rem; }\n",
       "            &lt;/style&gt;\n",
       "        \n",
       "&lt;/head&gt;\n",
       "&lt;body&gt;\n",
       "    \n",
       "    \n",
       "            &lt;div class=&quot;folium-map&quot; id=&quot;map_667605c132d9b30f7464705fb23a93ed&quot; &gt;&lt;/div&gt;\n",
       "        \n",
       "&lt;/body&gt;\n",
       "&lt;script&gt;\n",
       "    \n",
       "    \n",
       "            var map_667605c132d9b30f7464705fb23a93ed = L.map(\n",
       "                &quot;map_667605c132d9b30f7464705fb23a93ed&quot;,\n",
       "                {\n",
       "                    center: [16.625, -14.875],\n",
       "                    crs: L.CRS.EPSG3857,\n",
       "                    zoom: 8,\n",
       "                    zoomControl: true,\n",
       "                    preferCanvas: false,\n",
       "                }\n",
       "            );\n",
       "\n",
       "            \n",
       "\n",
       "        \n",
       "    \n",
       "            var tile_layer_5fe07bb22f66c79cbd9264414b1850a7 = L.tileLayer(\n",
       "                &quot;http://mt1.google.com/vt/lyrs=y\\u0026z={z}\\u0026x={x}\\u0026y={y}&quot;,\n",
       "                {&quot;attribution&quot;: &quot;Google&quot;, &quot;detectRetina&quot;: false, &quot;maxZoom&quot;: 18, &quot;minZoom&quot;: 0, &quot;noWrap&quot;: false, &quot;opacity&quot;: 1, &quot;subdomains&quot;: &quot;abc&quot;, &quot;tms&quot;: false}\n",
       "            );\n",
       "        \n",
       "    \n",
       "            tile_layer_5fe07bb22f66c79cbd9264414b1850a7.addTo(map_667605c132d9b30f7464705fb23a93ed);\n",
       "        \n",
       "    \n",
       "            var poly_line_dcd6bcaead89b54ec9a7ac0d4fdac289 = L.polyline(\n",
       "                [[17.625, -15.875], [17.625, -13.875], [15.625, -13.875], [15.625, -15.875], [17.625, -15.875]],\n",
       "                {&quot;bubblingMouseEvents&quot;: true, &quot;color&quot;: &quot;red&quot;, &quot;dashArray&quot;: null, &quot;dashOffset&quot;: null, &quot;fill&quot;: false, &quot;fillColor&quot;: &quot;red&quot;, &quot;fillOpacity&quot;: 0.2, &quot;fillRule&quot;: &quot;evenodd&quot;, &quot;lineCap&quot;: &quot;round&quot;, &quot;lineJoin&quot;: &quot;round&quot;, &quot;noClip&quot;: false, &quot;opacity&quot;: 0.8, &quot;smoothFactor&quot;: 1.0, &quot;stroke&quot;: true, &quot;weight&quot;: 3}\n",
       "            ).addTo(map_667605c132d9b30f7464705fb23a93ed);\n",
       "        \n",
       "    \n",
       "                var lat_lng_popup_336ad2780c3139d5a19d25af0115e9e9 = L.popup();\n",
       "                function latLngPop(e) {\n",
       "                    lat_lng_popup_336ad2780c3139d5a19d25af0115e9e9\n",
       "                        .setLatLng(e.latlng)\n",
       "                        .setContent(&quot;Latitude: &quot; + e.latlng.lat.toFixed(4) +\n",
       "                                    &quot;&lt;br&gt;Longitude: &quot; + e.latlng.lng.toFixed(4))\n",
       "                        .openOn(map_667605c132d9b30f7464705fb23a93ed);\n",
       "                    }\n",
       "                map_667605c132d9b30f7464705fb23a93ed.on(&#x27;click&#x27;, latLngPop);\n",
       "            \n",
       "&lt;/script&gt;\n",
       "&lt;/html&gt;\" style=\"position:absolute;width:100%;height:100%;left:0;top:0;border:none !important;\" allowfullscreen webkitallowfullscreen mozallowfullscreen></iframe></div></div>"
      ],
      "text/plain": [
       "<folium.folium.Map at 0x7f26d44482e0>"
      ]
     },
     "execution_count": 39,
     "metadata": {},
     "output_type": "execute_result"
    }
   ],
   "source": [
    "display_map(lon_range, lat_range)"
   ]
  },
  {
   "cell_type": "code",
   "execution_count": 40,
   "id": "cee2ebf6-e4cb-4034-849a-3ab62b21a630",
   "metadata": {},
   "outputs": [
    {
     "data": {
      "text/html": [
       "<div>\n",
       "<style scoped>\n",
       "    .dataframe tbody tr th:only-of-type {\n",
       "        vertical-align: middle;\n",
       "    }\n",
       "\n",
       "    .dataframe tbody tr th {\n",
       "        vertical-align: top;\n",
       "    }\n",
       "\n",
       "    .dataframe thead th {\n",
       "        text-align: right;\n",
       "    }\n",
       "</style>\n",
       "<table border=\"1\" class=\"dataframe\">\n",
       "  <thead>\n",
       "    <tr style=\"text-align: right;\">\n",
       "      <th></th>\n",
       "      <th>name</th>\n",
       "      <th>description</th>\n",
       "      <th>license</th>\n",
       "      <th>default_crs</th>\n",
       "      <th>default_resolution</th>\n",
       "    </tr>\n",
       "    <tr>\n",
       "      <th>name</th>\n",
       "      <th></th>\n",
       "      <th></th>\n",
       "      <th></th>\n",
       "      <th></th>\n",
       "      <th></th>\n",
       "    </tr>\n",
       "  </thead>\n",
       "  <tbody>\n",
       "    <tr>\n",
       "      <th>rainfall_chirps_daily</th>\n",
       "      <td>rainfall_chirps_daily</td>\n",
       "      <td>Rainfall Estimates from Rain Gauge and Satelli...</td>\n",
       "      <td>None</td>\n",
       "      <td>EPSG:4326</td>\n",
       "      <td>(-0.05000000074505806, 0.05000000074505806)</td>\n",
       "    </tr>\n",
       "    <tr>\n",
       "      <th>rainfall_chirps_monthly</th>\n",
       "      <td>rainfall_chirps_monthly</td>\n",
       "      <td>Rainfall Estimates from Rain Gauge and Satelli...</td>\n",
       "      <td>None</td>\n",
       "      <td>EPSG:4326</td>\n",
       "      <td>(-0.05000000074505806, 0.05000000074505806)</td>\n",
       "    </tr>\n",
       "  </tbody>\n",
       "</table>\n",
       "</div>"
      ],
      "text/plain": [
       "                                            name  \\\n",
       "name                                               \n",
       "rainfall_chirps_daily      rainfall_chirps_daily   \n",
       "rainfall_chirps_monthly  rainfall_chirps_monthly   \n",
       "\n",
       "                                                               description  \\\n",
       "name                                                                         \n",
       "rainfall_chirps_daily    Rainfall Estimates from Rain Gauge and Satelli...   \n",
       "rainfall_chirps_monthly  Rainfall Estimates from Rain Gauge and Satelli...   \n",
       "\n",
       "                        license default_crs  \\\n",
       "name                                          \n",
       "rainfall_chirps_daily      None   EPSG:4326   \n",
       "rainfall_chirps_monthly    None   EPSG:4326   \n",
       "\n",
       "                                                  default_resolution  \n",
       "name                                                                  \n",
       "rainfall_chirps_daily    (-0.05000000074505806, 0.05000000074505806)  \n",
       "rainfall_chirps_monthly  (-0.05000000074505806, 0.05000000074505806)  "
      ]
     },
     "execution_count": 40,
     "metadata": {},
     "output_type": "execute_result"
    }
   ],
   "source": [
    "dc.list_products().loc[dc.list_products()['name'].str.contains('chirps')]"
   ]
  },
  {
   "cell_type": "code",
   "execution_count": 41,
   "id": "739cbff8-5cc5-40eb-b6ba-cc05c8053a04",
   "metadata": {
    "scrolled": true
   },
   "outputs": [
    {
     "data": {
      "text/html": [
       "<div>\n",
       "<style scoped>\n",
       "    .dataframe tbody tr th:only-of-type {\n",
       "        vertical-align: middle;\n",
       "    }\n",
       "\n",
       "    .dataframe tbody tr th {\n",
       "        vertical-align: top;\n",
       "    }\n",
       "\n",
       "    .dataframe thead th {\n",
       "        text-align: right;\n",
       "    }\n",
       "</style>\n",
       "<table border=\"1\" class=\"dataframe\">\n",
       "  <thead>\n",
       "    <tr style=\"text-align: right;\">\n",
       "      <th></th>\n",
       "      <th>name</th>\n",
       "      <th>dtype</th>\n",
       "      <th>units</th>\n",
       "      <th>nodata</th>\n",
       "      <th>aliases</th>\n",
       "      <th>flags_definition</th>\n",
       "    </tr>\n",
       "    <tr>\n",
       "      <th>measurement</th>\n",
       "      <th></th>\n",
       "      <th></th>\n",
       "      <th></th>\n",
       "      <th></th>\n",
       "      <th></th>\n",
       "      <th></th>\n",
       "    </tr>\n",
       "  </thead>\n",
       "  <tbody>\n",
       "    <tr>\n",
       "      <th>rainfall</th>\n",
       "      <td>rainfall</td>\n",
       "      <td>float32</td>\n",
       "      <td>mm</td>\n",
       "      <td>-9999.0</td>\n",
       "      <td>NaN</td>\n",
       "      <td>NaN</td>\n",
       "    </tr>\n",
       "  </tbody>\n",
       "</table>\n",
       "</div>"
      ],
      "text/plain": [
       "                 name    dtype units  nodata aliases flags_definition\n",
       "measurement                                                          \n",
       "rainfall     rainfall  float32    mm -9999.0     NaN              NaN"
      ]
     },
     "execution_count": 41,
     "metadata": {},
     "output_type": "execute_result"
    }
   ],
   "source": [
    "measurements = dc.list_measurements()\n",
    "measurements.loc[\"rainfall_chirps_monthly\"]"
   ]
  },
  {
   "cell_type": "code",
   "execution_count": 43,
   "id": "e31e7c91-d912-47ce-9f20-bfd94c8124b3",
   "metadata": {},
   "outputs": [
    {
     "name": "stdout",
     "output_type": "stream",
     "text": [
      "<xarray.Dataset> Size: 5MB\n",
      "Dimensions:      (time: 94, y: 124, x: 97)\n",
      "Coordinates:\n",
      "  * time         (time) datetime64[ns] 752B 2013-03-16T11:59:59.500000 ... 20...\n",
      "  * y            (y) float64 992B 2.215e+06 2.213e+06 ... 1.971e+06 1.969e+06\n",
      "  * x            (x) float64 776B -1.531e+06 -1.529e+06 ... -1.339e+06\n",
      "    spatial_ref  int32 4B 6933\n",
      "Data variables:\n",
      "    rainfall     (time, y, x) float32 5MB 0.1225 0.1229 0.1229 ... 0.3683 0.3683\n",
      "Attributes:\n",
      "    crs:           EPSG:6933\n",
      "    grid_mapping:  spatial_ref\n"
     ]
    }
   ],
   "source": [
    "ds_rf_month = dc.load(product='rainfall_chirps_monthly',\n",
    "                time=('2013-03-01', '2020-12-31'),\n",
    "                y = lat_range,\n",
    "                x = lon_range,\n",
    "                resolution=(-2000, 2000),\n",
    "                output_crs=output_crs)\n",
    "\n",
    "print(ds_rf_month)"
   ]
  },
  {
   "cell_type": "code",
   "execution_count": 45,
   "id": "0b1eb84c-942d-4821-a854-baf7619a1415",
   "metadata": {},
   "outputs": [],
   "source": [
    "# Calculate the mean rainfall over the area for each time step\n",
    "rainfall_timeseries = ds_rf_month['rainfall'].mean(dim=[\"x\", \"y\"]).to_dataframe()\n"
   ]
  },
  {
   "cell_type": "code",
   "execution_count": 47,
   "id": "66a6caeb-f2cf-4c69-bdd6-d6e8c00b2930",
   "metadata": {},
   "outputs": [],
   "source": [
    "# Reset index to have a flat DataFrame format and save to CSV\n",
    "rainfall_timeseries.reset_index().to_csv(\"rainfall_monthly_2013-2020.csv\", index=False)\n"
   ]
  },
  {
   "cell_type": "code",
   "execution_count": null,
   "id": "e7981b4d-bca5-47d0-848c-034df3770ec5",
   "metadata": {},
   "outputs": [],
   "source": []
  },
  {
   "cell_type": "code",
   "execution_count": null,
   "id": "e789270a-6de2-4aec-a95e-b46058f52f2e",
   "metadata": {},
   "outputs": [],
   "source": []
  }
 ],
 "metadata": {
  "kernelspec": {
   "display_name": "Python 3 (ipykernel)",
   "language": "python",
   "name": "python3"
  },
  "language_info": {
   "codemirror_mode": {
    "name": "ipython",
    "version": 3
   },
   "file_extension": ".py",
   "mimetype": "text/x-python",
   "name": "python",
   "nbconvert_exporter": "python",
   "pygments_lexer": "ipython3",
   "version": "3.10.12"
  }
 },
 "nbformat": 4,
 "nbformat_minor": 5
}
